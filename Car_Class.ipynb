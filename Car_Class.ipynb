{
 "cells": [
  {
   "cell_type": "code",
   "execution_count": 1,
   "id": "e7aa2804",
   "metadata": {},
   "outputs": [],
   "source": [
    "import warnings\n",
    "warnings.filterwarnings('ignore')\n",
    "\n",
    "#importing necessary libraries\n",
    "import pandas as pd\n",
    "import numpy as np\n",
    "import seaborn as sns\n",
    "import matplotlib.pyplot as plt\n",
    "import plotly.express as px\n",
    "import plotly.graph_objects as go"
   ]
  },
  {
   "cell_type": "markdown",
   "id": "9cccd4ce",
   "metadata": {},
   "source": [
    "# Load the dataset"
   ]
  },
  {
   "cell_type": "code",
   "execution_count": 2,
   "id": "c0a41401",
   "metadata": {},
   "outputs": [
    {
     "data": {
      "text/html": [
       "<div>\n",
       "<style scoped>\n",
       "    .dataframe tbody tr th:only-of-type {\n",
       "        vertical-align: middle;\n",
       "    }\n",
       "\n",
       "    .dataframe tbody tr th {\n",
       "        vertical-align: top;\n",
       "    }\n",
       "\n",
       "    .dataframe thead th {\n",
       "        text-align: right;\n",
       "    }\n",
       "</style>\n",
       "<table border=\"1\" class=\"dataframe\">\n",
       "  <thead>\n",
       "    <tr style=\"text-align: right;\">\n",
       "      <th></th>\n",
       "      <th>ID</th>\n",
       "      <th>Comp</th>\n",
       "      <th>Circ</th>\n",
       "      <th>D.Circ</th>\n",
       "      <th>Rad.Ra</th>\n",
       "      <th>Pr.Axis.Ra</th>\n",
       "      <th>Max.L.Ra</th>\n",
       "      <th>Scat.Ra</th>\n",
       "      <th>Elong</th>\n",
       "      <th>Pr.Axis.Rect</th>\n",
       "      <th>Max.L.Rect</th>\n",
       "      <th>Sc.Var.Maxis</th>\n",
       "      <th>Sc.Var.maxis</th>\n",
       "      <th>Ra.Gyr</th>\n",
       "      <th>Skew.Maxis</th>\n",
       "      <th>Skew.maxis</th>\n",
       "      <th>Kurt.maxis</th>\n",
       "      <th>Kurt.Maxis</th>\n",
       "      <th>Holl.Ra</th>\n",
       "      <th>Class</th>\n",
       "    </tr>\n",
       "  </thead>\n",
       "  <tbody>\n",
       "    <tr>\n",
       "      <th>0</th>\n",
       "      <td>1</td>\n",
       "      <td>88</td>\n",
       "      <td>39</td>\n",
       "      <td>70</td>\n",
       "      <td>166</td>\n",
       "      <td>66</td>\n",
       "      <td>7</td>\n",
       "      <td>148</td>\n",
       "      <td>44</td>\n",
       "      <td>19</td>\n",
       "      <td>134</td>\n",
       "      <td>167</td>\n",
       "      <td>332</td>\n",
       "      <td>143</td>\n",
       "      <td>69</td>\n",
       "      <td>5</td>\n",
       "      <td>13</td>\n",
       "      <td>193</td>\n",
       "      <td>201</td>\n",
       "      <td>0</td>\n",
       "    </tr>\n",
       "    <tr>\n",
       "      <th>1</th>\n",
       "      <td>2</td>\n",
       "      <td>85</td>\n",
       "      <td>35</td>\n",
       "      <td>64</td>\n",
       "      <td>129</td>\n",
       "      <td>57</td>\n",
       "      <td>6</td>\n",
       "      <td>116</td>\n",
       "      <td>57</td>\n",
       "      <td>17</td>\n",
       "      <td>125</td>\n",
       "      <td>138</td>\n",
       "      <td>200</td>\n",
       "      <td>123</td>\n",
       "      <td>65</td>\n",
       "      <td>1</td>\n",
       "      <td>23</td>\n",
       "      <td>196</td>\n",
       "      <td>203</td>\n",
       "      <td>3</td>\n",
       "    </tr>\n",
       "    <tr>\n",
       "      <th>2</th>\n",
       "      <td>3</td>\n",
       "      <td>91</td>\n",
       "      <td>41</td>\n",
       "      <td>84</td>\n",
       "      <td>141</td>\n",
       "      <td>57</td>\n",
       "      <td>9</td>\n",
       "      <td>149</td>\n",
       "      <td>45</td>\n",
       "      <td>19</td>\n",
       "      <td>143</td>\n",
       "      <td>170</td>\n",
       "      <td>330</td>\n",
       "      <td>158</td>\n",
       "      <td>72</td>\n",
       "      <td>9</td>\n",
       "      <td>14</td>\n",
       "      <td>189</td>\n",
       "      <td>199</td>\n",
       "      <td>3</td>\n",
       "    </tr>\n",
       "    <tr>\n",
       "      <th>3</th>\n",
       "      <td>4</td>\n",
       "      <td>102</td>\n",
       "      <td>54</td>\n",
       "      <td>98</td>\n",
       "      <td>177</td>\n",
       "      <td>56</td>\n",
       "      <td>10</td>\n",
       "      <td>219</td>\n",
       "      <td>31</td>\n",
       "      <td>25</td>\n",
       "      <td>171</td>\n",
       "      <td>219</td>\n",
       "      <td>706</td>\n",
       "      <td>223</td>\n",
       "      <td>72</td>\n",
       "      <td>5</td>\n",
       "      <td>17</td>\n",
       "      <td>186</td>\n",
       "      <td>196</td>\n",
       "      <td>1</td>\n",
       "    </tr>\n",
       "    <tr>\n",
       "      <th>4</th>\n",
       "      <td>5</td>\n",
       "      <td>87</td>\n",
       "      <td>39</td>\n",
       "      <td>74</td>\n",
       "      <td>152</td>\n",
       "      <td>58</td>\n",
       "      <td>6</td>\n",
       "      <td>151</td>\n",
       "      <td>44</td>\n",
       "      <td>19</td>\n",
       "      <td>136</td>\n",
       "      <td>174</td>\n",
       "      <td>337</td>\n",
       "      <td>140</td>\n",
       "      <td>70</td>\n",
       "      <td>1</td>\n",
       "      <td>33</td>\n",
       "      <td>187</td>\n",
       "      <td>196</td>\n",
       "      <td>2</td>\n",
       "    </tr>\n",
       "  </tbody>\n",
       "</table>\n",
       "</div>"
      ],
      "text/plain": [
       "   ID  Comp  Circ  D.Circ  Rad.Ra  Pr.Axis.Ra  Max.L.Ra  Scat.Ra  Elong  \\\n",
       "0   1    88    39      70     166          66         7      148     44   \n",
       "1   2    85    35      64     129          57         6      116     57   \n",
       "2   3    91    41      84     141          57         9      149     45   \n",
       "3   4   102    54      98     177          56        10      219     31   \n",
       "4   5    87    39      74     152          58         6      151     44   \n",
       "\n",
       "   Pr.Axis.Rect  Max.L.Rect  Sc.Var.Maxis  Sc.Var.maxis  Ra.Gyr  Skew.Maxis  \\\n",
       "0            19         134           167           332     143          69   \n",
       "1            17         125           138           200     123          65   \n",
       "2            19         143           170           330     158          72   \n",
       "3            25         171           219           706     223          72   \n",
       "4            19         136           174           337     140          70   \n",
       "\n",
       "   Skew.maxis  Kurt.maxis  Kurt.Maxis  Holl.Ra  Class  \n",
       "0           5          13         193      201      0  \n",
       "1           1          23         196      203      3  \n",
       "2           9          14         189      199      3  \n",
       "3           5          17         186      196      1  \n",
       "4           1          33         187      196      2  "
      ]
     },
     "execution_count": 2,
     "metadata": {},
     "output_type": "execute_result"
    }
   ],
   "source": [
    "#Loading the dataset\n",
    "cars = pd.read_csv(\"cars_class.csv\")\n",
    "cars.head()"
   ]
  },
  {
   "cell_type": "markdown",
   "id": "fc01f5b9",
   "metadata": {},
   "source": [
    "**Description of attributes**\n",
    "Comp: Compactness,\n",
    "Circ: Circularity,\n",
    "D.Circ: Distance Circularity,\n",
    "Rad.Ra: Radius ratio,\n",
    "Pr.Axis.Ra: pr.axis aspect ratio,\n",
    "Max.L.Ra: max.length aspect ratio,\n",
    "Scat.Ra: scatter ratio,\n",
    "Elong: elongatedness,\n",
    "Pr.Axis.Rect: pr.axis rectangularity,\n",
    "Max.L.Rect: max.length rectangularity,\n",
    "Sc.Var.Maxis: scaled variance along major axis,\n",
    "Sc.Var.maxis: scaled variance along minor axis,\n",
    "Ra.Gyr: scaled radius of gyration,\n",
    "Skew.Maxis: skewness about major axis,\n",
    "Skew.maxis: skewness about minor axis,\n",
    "Kurt.maxis: kurtosis about minor axis,\n",
    "Kurt.Maxis: kurtosis about major axis,\n",
    "Holl.Ra: hollows ratio.\n"
   ]
  },
  {
   "cell_type": "markdown",
   "id": "cd0e57c6",
   "metadata": {},
   "source": [
    "# Data Understanding"
   ]
  },
  {
   "cell_type": "code",
   "execution_count": 3,
   "id": "bd368ddb",
   "metadata": {},
   "outputs": [
    {
     "name": "stdout",
     "output_type": "stream",
     "text": [
      "<class 'pandas.core.frame.DataFrame'>\n",
      "RangeIndex: 719 entries, 0 to 718\n",
      "Data columns (total 20 columns):\n",
      " #   Column        Non-Null Count  Dtype\n",
      "---  ------        --------------  -----\n",
      " 0   ID            719 non-null    int64\n",
      " 1   Comp          719 non-null    int64\n",
      " 2   Circ          719 non-null    int64\n",
      " 3   D.Circ        719 non-null    int64\n",
      " 4   Rad.Ra        719 non-null    int64\n",
      " 5   Pr.Axis.Ra    719 non-null    int64\n",
      " 6   Max.L.Ra      719 non-null    int64\n",
      " 7   Scat.Ra       719 non-null    int64\n",
      " 8   Elong         719 non-null    int64\n",
      " 9   Pr.Axis.Rect  719 non-null    int64\n",
      " 10  Max.L.Rect    719 non-null    int64\n",
      " 11  Sc.Var.Maxis  719 non-null    int64\n",
      " 12  Sc.Var.maxis  719 non-null    int64\n",
      " 13  Ra.Gyr        719 non-null    int64\n",
      " 14  Skew.Maxis    719 non-null    int64\n",
      " 15  Skew.maxis    719 non-null    int64\n",
      " 16  Kurt.maxis    719 non-null    int64\n",
      " 17  Kurt.Maxis    719 non-null    int64\n",
      " 18  Holl.Ra       719 non-null    int64\n",
      " 19  Class         719 non-null    int64\n",
      "dtypes: int64(20)\n",
      "memory usage: 112.5 KB\n"
     ]
    }
   ],
   "source": [
    "cars.info()\n",
    "#summary: There are 716 rows and 20 columns. No null values. "
   ]
  },
  {
   "cell_type": "code",
   "execution_count": 4,
   "id": "79367585",
   "metadata": {},
   "outputs": [
    {
     "data": {
      "text/html": [
       "<div>\n",
       "<style scoped>\n",
       "    .dataframe tbody tr th:only-of-type {\n",
       "        vertical-align: middle;\n",
       "    }\n",
       "\n",
       "    .dataframe tbody tr th {\n",
       "        vertical-align: top;\n",
       "    }\n",
       "\n",
       "    .dataframe thead th {\n",
       "        text-align: right;\n",
       "    }\n",
       "</style>\n",
       "<table border=\"1\" class=\"dataframe\">\n",
       "  <thead>\n",
       "    <tr style=\"text-align: right;\">\n",
       "      <th></th>\n",
       "      <th>ID</th>\n",
       "      <th>Comp</th>\n",
       "      <th>Circ</th>\n",
       "      <th>D_Circ</th>\n",
       "      <th>Rad_Ra</th>\n",
       "      <th>Pr_Axis_Ra</th>\n",
       "      <th>Max_L_Ra</th>\n",
       "      <th>Scat_Ra</th>\n",
       "      <th>Elong</th>\n",
       "      <th>Pr_Axis_Rect</th>\n",
       "      <th>Max_L_Rect</th>\n",
       "      <th>Sc_Var_Maxis</th>\n",
       "      <th>Sc_Var_maxis</th>\n",
       "      <th>Ra_Gyr</th>\n",
       "      <th>Skew_Maxis</th>\n",
       "      <th>Skew_maxis</th>\n",
       "      <th>Kurt_maxis</th>\n",
       "      <th>Kurt_Maxis</th>\n",
       "      <th>Holl_Ra</th>\n",
       "      <th>Class</th>\n",
       "    </tr>\n",
       "  </thead>\n",
       "  <tbody>\n",
       "    <tr>\n",
       "      <th>0</th>\n",
       "      <td>1</td>\n",
       "      <td>88</td>\n",
       "      <td>39</td>\n",
       "      <td>70</td>\n",
       "      <td>166</td>\n",
       "      <td>66</td>\n",
       "      <td>7</td>\n",
       "      <td>148</td>\n",
       "      <td>44</td>\n",
       "      <td>19</td>\n",
       "      <td>134</td>\n",
       "      <td>167</td>\n",
       "      <td>332</td>\n",
       "      <td>143</td>\n",
       "      <td>69</td>\n",
       "      <td>5</td>\n",
       "      <td>13</td>\n",
       "      <td>193</td>\n",
       "      <td>201</td>\n",
       "      <td>0</td>\n",
       "    </tr>\n",
       "    <tr>\n",
       "      <th>1</th>\n",
       "      <td>2</td>\n",
       "      <td>85</td>\n",
       "      <td>35</td>\n",
       "      <td>64</td>\n",
       "      <td>129</td>\n",
       "      <td>57</td>\n",
       "      <td>6</td>\n",
       "      <td>116</td>\n",
       "      <td>57</td>\n",
       "      <td>17</td>\n",
       "      <td>125</td>\n",
       "      <td>138</td>\n",
       "      <td>200</td>\n",
       "      <td>123</td>\n",
       "      <td>65</td>\n",
       "      <td>1</td>\n",
       "      <td>23</td>\n",
       "      <td>196</td>\n",
       "      <td>203</td>\n",
       "      <td>3</td>\n",
       "    </tr>\n",
       "    <tr>\n",
       "      <th>2</th>\n",
       "      <td>3</td>\n",
       "      <td>91</td>\n",
       "      <td>41</td>\n",
       "      <td>84</td>\n",
       "      <td>141</td>\n",
       "      <td>57</td>\n",
       "      <td>9</td>\n",
       "      <td>149</td>\n",
       "      <td>45</td>\n",
       "      <td>19</td>\n",
       "      <td>143</td>\n",
       "      <td>170</td>\n",
       "      <td>330</td>\n",
       "      <td>158</td>\n",
       "      <td>72</td>\n",
       "      <td>9</td>\n",
       "      <td>14</td>\n",
       "      <td>189</td>\n",
       "      <td>199</td>\n",
       "      <td>3</td>\n",
       "    </tr>\n",
       "    <tr>\n",
       "      <th>3</th>\n",
       "      <td>4</td>\n",
       "      <td>102</td>\n",
       "      <td>54</td>\n",
       "      <td>98</td>\n",
       "      <td>177</td>\n",
       "      <td>56</td>\n",
       "      <td>10</td>\n",
       "      <td>219</td>\n",
       "      <td>31</td>\n",
       "      <td>25</td>\n",
       "      <td>171</td>\n",
       "      <td>219</td>\n",
       "      <td>706</td>\n",
       "      <td>223</td>\n",
       "      <td>72</td>\n",
       "      <td>5</td>\n",
       "      <td>17</td>\n",
       "      <td>186</td>\n",
       "      <td>196</td>\n",
       "      <td>1</td>\n",
       "    </tr>\n",
       "    <tr>\n",
       "      <th>4</th>\n",
       "      <td>5</td>\n",
       "      <td>87</td>\n",
       "      <td>39</td>\n",
       "      <td>74</td>\n",
       "      <td>152</td>\n",
       "      <td>58</td>\n",
       "      <td>6</td>\n",
       "      <td>151</td>\n",
       "      <td>44</td>\n",
       "      <td>19</td>\n",
       "      <td>136</td>\n",
       "      <td>174</td>\n",
       "      <td>337</td>\n",
       "      <td>140</td>\n",
       "      <td>70</td>\n",
       "      <td>1</td>\n",
       "      <td>33</td>\n",
       "      <td>187</td>\n",
       "      <td>196</td>\n",
       "      <td>2</td>\n",
       "    </tr>\n",
       "  </tbody>\n",
       "</table>\n",
       "</div>"
      ],
      "text/plain": [
       "   ID  Comp  Circ  D_Circ  Rad_Ra  Pr_Axis_Ra  Max_L_Ra  Scat_Ra  Elong  \\\n",
       "0   1    88    39      70     166          66         7      148     44   \n",
       "1   2    85    35      64     129          57         6      116     57   \n",
       "2   3    91    41      84     141          57         9      149     45   \n",
       "3   4   102    54      98     177          56        10      219     31   \n",
       "4   5    87    39      74     152          58         6      151     44   \n",
       "\n",
       "   Pr_Axis_Rect  Max_L_Rect  Sc_Var_Maxis  Sc_Var_maxis  Ra_Gyr  Skew_Maxis  \\\n",
       "0            19         134           167           332     143          69   \n",
       "1            17         125           138           200     123          65   \n",
       "2            19         143           170           330     158          72   \n",
       "3            25         171           219           706     223          72   \n",
       "4            19         136           174           337     140          70   \n",
       "\n",
       "   Skew_maxis  Kurt_maxis  Kurt_Maxis  Holl_Ra  Class  \n",
       "0           5          13         193      201      0  \n",
       "1           1          23         196      203      3  \n",
       "2           9          14         189      199      3  \n",
       "3           5          17         186      196      1  \n",
       "4           1          33         187      196      2  "
      ]
     },
     "execution_count": 4,
     "metadata": {},
     "output_type": "execute_result"
    }
   ],
   "source": [
    "#editing the column names\n",
    "cars.columns = cars.columns.str.replace('.','_')\n",
    "cars.head()"
   ]
  },
  {
   "cell_type": "markdown",
   "id": "a9c711f7",
   "metadata": {},
   "source": [
    "# Data Cleaning"
   ]
  },
  {
   "cell_type": "markdown",
   "id": "e417a79d",
   "metadata": {},
   "source": [
    "Lets look into each columns individually if any inconsistent data is present."
   ]
  },
  {
   "cell_type": "code",
   "execution_count": 5,
   "id": "0a183c3f",
   "metadata": {},
   "outputs": [
    {
     "data": {
      "text/plain": [
       "array([ 88,  85,  91, 102,  87,  95,  97,  96, 107,  86,  89,  92, 104,\n",
       "        81,  94,  93, 111,  82, 106,  99,  78,  83,  84, 100, 109,  90,\n",
       "       101,  79, 117,  98, 105, 108,  80, 103, 110, 112,  77, 115, 119,\n",
       "        73, 114,  76, 113], dtype=int64)"
      ]
     },
     "execution_count": 5,
     "metadata": {},
     "output_type": "execute_result"
    }
   ],
   "source": [
    "cars.Comp.unique()\n",
    "#Comp column seems good"
   ]
  },
  {
   "cell_type": "code",
   "execution_count": 6,
   "id": "cb0620d0",
   "metadata": {},
   "outputs": [
    {
     "data": {
      "text/plain": [
       "array([39, 35, 41, 54, 46, 37, 55, 38, 40, 45, 36, 34, 52, 51, 47, 44, 53,\n",
       "       43, 57, 50, 42, 59, 48, 56, 33, 58, 49], dtype=int64)"
      ]
     },
     "execution_count": 6,
     "metadata": {},
     "output_type": "execute_result"
    }
   ],
   "source": [
    "cars.Circ.unique()\n",
    "# Circ column seems good"
   ]
  },
  {
   "cell_type": "code",
   "execution_count": 7,
   "id": "c3358b86",
   "metadata": {},
   "outputs": [
    {
     "data": {
      "text/plain": [
       "array([ 70,  64,  84,  98,  74,  76,  66,  89,  58,  83,  78, 109,  71,\n",
       "        53,  82, 103,  59,  68, 100, 101, 104,  63,  69,  77,  96,  92,\n",
       "        81, 105,  73,  88,  80, 107,  72, 106,  85,  65,  79,  75, 108,\n",
       "        87,  86,  54, 110,  47,  90,  40,  95,  60,  61,  93,  94, 102,\n",
       "        62,  91,  52,  44,  57,  55,  51,  49], dtype=int64)"
      ]
     },
     "execution_count": 7,
     "metadata": {},
     "output_type": "execute_result"
    }
   ],
   "source": [
    "cars.D_Circ.unique()\n",
    "# D_Circ column seems good"
   ]
  },
  {
   "cell_type": "code",
   "execution_count": 8,
   "id": "71ccf9e4",
   "metadata": {},
   "outputs": [
    {
     "data": {
      "text/plain": [
       "array([166, 129, 141, 177, 152, 162, 151, 199, 176, 137, 154, 186, 175,\n",
       "       149, 230, 117, 213, 145, 171, 163, 134, 169, 224, 219, 208, 115,\n",
       "       127, 142, 153, 188, 194, 143, 183, 164, 225, 180, 140, 207, 133,\n",
       "       209, 147, 210, 113, 150, 206, 187, 139, 123, 132, 227, 306, 228,\n",
       "       110, 159, 170, 201, 202, 182, 189, 195, 128, 131, 155, 116, 181,\n",
       "       172, 197, 119, 173, 121, 231, 135, 220, 204, 130, 126, 111, 203,\n",
       "       161, 165, 191, 185, 179, 212, 223, 222, 125, 192, 160, 218, 148,\n",
       "       136, 211, 124, 178, 198, 193, 174, 144, 167, 122, 157, 138, 158,\n",
       "       146, 196, 168, 322, 156, 221, 190, 120, 205, 184, 214, 215, 252,\n",
       "       114, 235, 109, 234, 246, 250, 216, 200, 118, 238, 105, 217, 112,\n",
       "       333, 226], dtype=int64)"
      ]
     },
     "execution_count": 8,
     "metadata": {},
     "output_type": "execute_result"
    }
   ],
   "source": [
    "cars.Rad_Ra.unique()\n",
    "# Rad_Ra column seems good"
   ]
  },
  {
   "cell_type": "code",
   "execution_count": 9,
   "id": "94c8af94",
   "metadata": {},
   "outputs": [
    {
     "data": {
      "text/plain": [
       "array([ 66,  57,  56,  58,  64,  74,  59,  73,  60,  55,  67,  61,  71,\n",
       "        50,  63,  68,  51,  54,  75,  62,  70,  65, 126,  53,  69,  52,\n",
       "        97,  48,  72,  49,  47, 133, 103, 105,  76, 102, 138], dtype=int64)"
      ]
     },
     "execution_count": 9,
     "metadata": {},
     "output_type": "execute_result"
    }
   ],
   "source": [
    "cars.Pr_Axis_Ra.unique()\n",
    "# Pr_Axis_Ra column seems good"
   ]
  },
  {
   "cell_type": "code",
   "execution_count": 10,
   "id": "8e08b923",
   "metadata": {},
   "outputs": [
    {
     "data": {
      "text/plain": [
       "array([ 7,  6,  9, 10, 11,  8,  5, 12,  4, 49,  3, 13, 22, 46,  2, 48, 52,\n",
       "       25, 55, 43, 19], dtype=int64)"
      ]
     },
     "execution_count": 10,
     "metadata": {},
     "output_type": "execute_result"
    }
   ],
   "source": [
    "cars.Max_L_Ra.unique()\n",
    "# Max_L_Ra column seems good"
   ]
  },
  {
   "cell_type": "code",
   "execution_count": 11,
   "id": "a96a5d98",
   "metadata": {},
   "outputs": [
    {
     "data": {
      "text/plain": [
       "array([148, 116, 149, 219, 151, 162, 128, 165, 240, 169, 122, 160, 158,\n",
       "       157, 147, 218, 153, 118, 186, 159, 221, 135, 216, 215, 224, 191,\n",
       "       142, 138, 146, 139, 188, 220, 133, 168, 154, 197, 155, 156, 227,\n",
       "       207, 192, 152, 144, 198, 166, 136, 132, 211, 203, 163, 161, 150,\n",
       "       201, 236, 125, 212, 117, 134, 172, 184, 183, 210, 217, 181, 143,\n",
       "       213, 164, 127, 225, 112, 123, 206, 177, 171, 208, 241, 126, 209,\n",
       "       185, 145, 222, 137, 250, 175, 140, 119, 202, 187, 167, 189, 174,\n",
       "       204, 194, 131, 178, 170, 130, 247, 195, 190, 180, 214, 176, 200,\n",
       "       193, 226, 205, 257, 252, 262, 196, 114, 239, 115, 120, 199, 129,\n",
       "       223, 238, 121, 173, 260, 237, 256, 265], dtype=int64)"
      ]
     },
     "execution_count": 11,
     "metadata": {},
     "output_type": "execute_result"
    }
   ],
   "source": [
    "cars.Scat_Ra.unique()\n",
    "# Scat_Ra column seems good"
   ]
  },
  {
   "cell_type": "code",
   "execution_count": 12,
   "id": "0d0c6c23",
   "metadata": {},
   "outputs": [
    {
     "data": {
      "text/plain": [
       "array([44, 57, 45, 31, 42, 52, 39, 27, 54, 41, 30, 35, 43, 51, 47, 49, 48,\n",
       "       50, 46, 33, 32, 40, 28, 38, 36, 34, 53, 61, 29, 55, 58, 37, 26, 56,\n",
       "       59], dtype=int64)"
      ]
     },
     "execution_count": 12,
     "metadata": {},
     "output_type": "execute_result"
    }
   ],
   "source": [
    "cars.Elong.unique()\n",
    "# Elong column seems good"
   ]
  },
  {
   "cell_type": "code",
   "execution_count": 13,
   "id": "dbaa06e4",
   "metadata": {},
   "outputs": [
    {
     "data": {
      "text/plain": [
       "array([19, 17, 25, 20, 18, 26, 24, 22, 23, 21, 27, 28, 29], dtype=int64)"
      ]
     },
     "execution_count": 13,
     "metadata": {},
     "output_type": "execute_result"
    }
   ],
   "source": [
    "cars.Pr_Axis_Rect.unique()\n",
    "# Pr_Axis_Rect column seems good"
   ]
  },
  {
   "cell_type": "code",
   "execution_count": 14,
   "id": "aeda4001",
   "metadata": {},
   "outputs": [
    {
     "data": {
      "text/plain": [
       "array([134, 125, 143, 171, 136, 155, 129, 128, 168, 132, 140, 148, 149,\n",
       "       174, 145, 160, 172, 159, 146, 173, 170, 178, 130, 131, 122, 139,\n",
       "       161, 162, 150, 147, 167, 127, 157, 180, 158, 151, 141, 154, 138,\n",
       "       133, 156, 186, 164, 163, 126, 153, 142, 144, 177, 119, 124, 121,\n",
       "       166, 176, 152, 137, 165, 169, 175, 123, 135, 182, 179, 120, 188,\n",
       "       118], dtype=int64)"
      ]
     },
     "execution_count": 14,
     "metadata": {},
     "output_type": "execute_result"
    }
   ],
   "source": [
    "cars.Max_L_Rect.unique()\n",
    "# Max_L_Rect column seems good"
   ]
  },
  {
   "cell_type": "code",
   "execution_count": 15,
   "id": "d608d713",
   "metadata": {},
   "outputs": [
    {
     "data": {
      "text/plain": [
       "array([167, 138, 170, 219, 174, 175, 148, 188, 258, 190, 146, 185, 180,\n",
       "       168, 230, 177, 204, 227, 173, 151, 225, 222, 228, 210, 162, 155,\n",
       "       158, 165, 159, 206, 247, 153, 193, 226, 171, 214, 166, 234, 223,\n",
       "       181, 208, 169, 161, 189, 184, 172, 231, 272, 256, 136, 147, 197,\n",
       "       203, 211, 236, 186, 213, 164, 154, 156, 130, 262, 141, 137, 179,\n",
       "       217, 235, 202, 200, 176, 232, 196, 199, 182, 265, 229, 160, 149,\n",
       "       218, 152, 163, 220, 139, 221, 157, 280, 209, 195, 140, 216, 212,\n",
       "       194, 238, 183, 191, 142, 266, 143, 207, 224, 187, 215, 150, 178,\n",
       "       275, 237, 269, 285, 144, 134, 241, 240, 264, 135, 192, 145, 205,\n",
       "       267, 246, 287, 288, 320, 263, 254], dtype=int64)"
      ]
     },
     "execution_count": 15,
     "metadata": {},
     "output_type": "execute_result"
    }
   ],
   "source": [
    "cars.Sc_Var_Maxis.unique()\n",
    "# Sc_Var_Maxis column seems good"
   ]
  },
  {
   "cell_type": "code",
   "execution_count": 16,
   "id": "2e7557e7",
   "metadata": {},
   "outputs": [
    {
     "data": {
      "text/plain": [
       "array([ 332,  200,  330,  706,  337,  381,  246,  419,  866,  428,  225,\n",
       "        382,  379,  370,  321,  347,  205,  533,  371,  727,  368,  264,\n",
       "        336,  686,  679,  737,  543,  299,  274,  364,  284,  319,  289,\n",
       "        530,  731,  266,  426,  305,  713,  362,  596,  359,  349,  756,\n",
       "        314,  635,  373,  546,  311,  285,  586,  339,  415,  275,  383,\n",
       "        260,  663,  318,  625,  732,  404,  374,  611,  346,  833,  352,\n",
       "        229,  668,  203,  322,  259,  445,  523,  506,  661,  696,  492,\n",
       "        307,  673,  427,  402,  578,  310,  324,  240,  741,  184,  776,\n",
       "        221,  348,  197,  325,  712,  367,  631,  677,  711,  326,  622,\n",
       "        716,  485,  351,  718,  425,  757,  504,  366,  450,  320,  342,\n",
       "        272,  629,  391,  666,  327,  870,  237,  253,  684,  258,  363,\n",
       "        671,  335,  524,  389,  583,  607,  406,  707,  653,  220,  701,\n",
       "        265,  277,  281,  928,  721,  455,  517,  323,  472,  294,  212,\n",
       "        610,  520,  340,  418,  290,  526,  333,  308,  535,  722,  602,\n",
       "        682,  208,  624,  287,  361,  460,  282,  341,  576,  685,  252,\n",
       "        385,  355,  703,  487,  262,  306,  301,  494,  334,  408,  511,\n",
       "        642,  680,  589,  249,  658,  375,  396,  438,  648,  256,  433,\n",
       "        338,  358,  273,  376,  892,  223,  331,  572,  261,  270,  369,\n",
       "        312,  329,  279,  298,  534,  691,  608,  238,  545,  309,  669,\n",
       "        670,  434,  345,  639,  254,  489,  300,  388,  725,  263,  440,\n",
       "        476,  595,  600,  665,  687,  562,  354,  315,  317,  465,  748,\n",
       "        644,  255,  296,  271,  657,  344,  479,  645,  956,  356,  728,\n",
       "        401,  904,  219,  512,  627,  567,  987,  692,  209,  601,  518,\n",
       "        694,  365,  674,  471,  233,  681,  416,  241,  697,  709,  513,\n",
       "        574,  268,  195,  409,  700,  251,  280,  710,  726,  357,  597,\n",
       "        430,  719,  575,  206,  204,  328,  650,  717,  855,  558,  278,\n",
       "        678,  196,  387,  372,  508,  469,  343,  393,  527,  587,  563,\n",
       "        459,  641,  446,  675,  247,  467,  227,  232,  243,  708,  857,\n",
       "        230,  704,  766,  968,  623,  923,  605,  473,  458,  954,  295,\n",
       "        350,  640,  481,  245,  390,  651,  570,  218,  521,  844,  612,\n",
       "        399,  304,  676,  224,  405,  478,  207,  688,  360,  250,  216,\n",
       "        417,  621,  729,  613,  683,  291,  429,  667,  638,  435,  616,\n",
       "        413,  242,  463,  982,  211,  720,  316,  559,  480,  752,  525,\n",
       "        378,  598,  636,  474,  838,  466,  579,  966,  422,  735,  557,\n",
       "        505,  519,  222, 1018,  698,  414], dtype=int64)"
      ]
     },
     "execution_count": 16,
     "metadata": {},
     "output_type": "execute_result"
    }
   ],
   "source": [
    "cars.Sc_Var_maxis.unique()\n",
    "# Sc_Var_maxis column seems good"
   ]
  },
  {
   "cell_type": "code",
   "execution_count": 17,
   "id": "adad2f94",
   "metadata": {},
   "outputs": [
    {
     "data": {
      "text/plain": [
       "array([143, 123, 158, 223, 140, 172, 112, 136, 245, 148, 150, 184, 169,\n",
       "       134, 226, 190, 138, 182, 189, 201, 176, 186, 220, 214, 213, 146,\n",
       "       162, 188, 120, 137, 205, 209, 127, 171, 202, 132, 173, 149, 181,\n",
       "       174, 191, 179, 175, 155, 121, 145, 219, 218, 200, 253, 199, 128,\n",
       "       139, 152, 183, 230, 216, 217, 130, 195, 177, 192, 204, 164, 126,\n",
       "       193, 119, 246, 178, 142, 151, 159, 185, 153, 187, 247, 168, 133,\n",
       "       180, 157, 234, 135, 124, 198, 211, 224, 197, 239, 154, 141, 222,\n",
       "       160, 129, 167, 229, 170, 206, 144, 210, 156, 196, 240, 163, 166,\n",
       "       242, 235, 212, 194, 161, 203, 236, 250, 125, 215, 244, 117, 165,\n",
       "       260, 114, 221, 208, 228, 131, 147, 232, 113, 231, 261, 262, 249,\n",
       "       118, 115, 109, 238, 116, 237, 207, 255], dtype=int64)"
      ]
     },
     "execution_count": 17,
     "metadata": {},
     "output_type": "execute_result"
    }
   ],
   "source": [
    "cars.Ra_Gyr.unique()\n",
    "# Ra_Gyr column seems good"
   ]
  },
  {
   "cell_type": "code",
   "execution_count": 18,
   "id": "fc758f00",
   "metadata": {},
   "outputs": [
    {
     "data": {
      "text/plain": [
       "array([ 69,  65,  72,  70,  74,  66,  80,  67,  63,  71,  73,  64,  85,\n",
       "        77,  82,  75,  68,  62,  81,  78, 118,  76,  89,  83,  86,  79,\n",
       "        87,  91,  84,  61,  90,  97,  59, 119, 127,  88,  99,  60, 135],\n",
       "      dtype=int64)"
      ]
     },
     "execution_count": 18,
     "metadata": {},
     "output_type": "execute_result"
    }
   ],
   "source": [
    "cars.Skew_Maxis.unique()\n",
    "# Skew_Maxis column seems good"
   ]
  },
  {
   "cell_type": "code",
   "execution_count": 19,
   "id": "ab9268e9",
   "metadata": {},
   "outputs": [
    {
     "data": {
      "text/plain": [
       "array([ 5,  1,  9,  8,  6,  3,  7, 10, 16,  4,  2, 15, 11,  0, 14, 12, 13,\n",
       "       21, 19, 17, 20, 18, 22], dtype=int64)"
      ]
     },
     "execution_count": 19,
     "metadata": {},
     "output_type": "execute_result"
    }
   ],
   "source": [
    "cars.Skew_maxis.unique()\n",
    "# Skew_maxis column seems good"
   ]
  },
  {
   "cell_type": "code",
   "execution_count": 20,
   "id": "d609b581",
   "metadata": {},
   "outputs": [
    {
     "data": {
      "text/plain": [
       "array([13, 23, 14, 17, 33,  4,  2,  3,  1,  5, 11, 12, 24, 22, 15,  6, 20,\n",
       "        0, 29, 28, 21,  8,  7, 10, 19, 18,  9, 32, 16, 27, 25, 26, 38, 36,\n",
       "       30, 35, 41, 31], dtype=int64)"
      ]
     },
     "execution_count": 20,
     "metadata": {},
     "output_type": "execute_result"
    }
   ],
   "source": [
    "cars.Kurt_maxis.unique()\n",
    "# Kurt_maxis column seems good"
   ]
  },
  {
   "cell_type": "code",
   "execution_count": 21,
   "id": "746098ca",
   "metadata": {},
   "outputs": [
    {
     "data": {
      "text/plain": [
       "array([193, 196, 189, 186, 187, 184, 195, 199, 198, 197, 191, 182, 180,\n",
       "       183, 190, 179, 185, 181, 204, 201, 188, 194, 192, 177, 178, 200,\n",
       "       203, 202, 176], dtype=int64)"
      ]
     },
     "execution_count": 21,
     "metadata": {},
     "output_type": "execute_result"
    }
   ],
   "source": [
    "cars.Kurt_Maxis.unique()\n",
    "# Kurt_Maxis column seems good"
   ]
  },
  {
   "cell_type": "code",
   "execution_count": 22,
   "id": "b22a2f7c",
   "metadata": {},
   "outputs": [
    {
     "data": {
      "text/plain": [
       "array([201, 203, 199, 196, 193, 200, 184, 202, 206, 191, 197, 187, 183,\n",
       "       198, 194, 185, 189, 195, 190, 210, 209, 186, 204, 207, 188, 208,\n",
       "       205, 192, 182, 211, 181], dtype=int64)"
      ]
     },
     "execution_count": 22,
     "metadata": {},
     "output_type": "execute_result"
    }
   ],
   "source": [
    "cars.Holl_Ra.unique()\n",
    "# Holl_Ra column seems good"
   ]
  },
  {
   "cell_type": "code",
   "execution_count": 23,
   "id": "93fa5c0e",
   "metadata": {},
   "outputs": [
    {
     "data": {
      "text/plain": [
       "array([0, 3, 1, 2], dtype=int64)"
      ]
     },
     "execution_count": 23,
     "metadata": {},
     "output_type": "execute_result"
    }
   ],
   "source": [
    "cars.Class.unique()\n",
    "# Class column seems good"
   ]
  },
  {
   "cell_type": "markdown",
   "id": "2fc452a2",
   "metadata": {},
   "source": [
    "The dataset looks fine. Now we can visulaize the data to understand better"
   ]
  },
  {
   "cell_type": "markdown",
   "id": "0fe66396",
   "metadata": {},
   "source": [
    "# Data Visualization"
   ]
  },
  {
   "cell_type": "code",
   "execution_count": 24,
   "id": "4f42c71d",
   "metadata": {},
   "outputs": [
    {
     "data": {
      "text/html": [
       "<div>\n",
       "<style scoped>\n",
       "    .dataframe tbody tr th:only-of-type {\n",
       "        vertical-align: middle;\n",
       "    }\n",
       "\n",
       "    .dataframe tbody tr th {\n",
       "        vertical-align: top;\n",
       "    }\n",
       "\n",
       "    .dataframe thead th {\n",
       "        text-align: right;\n",
       "    }\n",
       "</style>\n",
       "<table border=\"1\" class=\"dataframe\">\n",
       "  <thead>\n",
       "    <tr style=\"text-align: right;\">\n",
       "      <th></th>\n",
       "      <th>ID</th>\n",
       "      <th>Comp</th>\n",
       "      <th>Circ</th>\n",
       "      <th>D_Circ</th>\n",
       "      <th>Rad_Ra</th>\n",
       "      <th>Pr_Axis_Ra</th>\n",
       "      <th>Max_L_Ra</th>\n",
       "      <th>Scat_Ra</th>\n",
       "      <th>Elong</th>\n",
       "      <th>Pr_Axis_Rect</th>\n",
       "      <th>Max_L_Rect</th>\n",
       "      <th>Sc_Var_Maxis</th>\n",
       "      <th>Sc_Var_maxis</th>\n",
       "      <th>Ra_Gyr</th>\n",
       "      <th>Skew_Maxis</th>\n",
       "      <th>Skew_maxis</th>\n",
       "      <th>Kurt_maxis</th>\n",
       "      <th>Kurt_Maxis</th>\n",
       "      <th>Holl_Ra</th>\n",
       "      <th>Class</th>\n",
       "    </tr>\n",
       "  </thead>\n",
       "  <tbody>\n",
       "    <tr>\n",
       "      <th>ID</th>\n",
       "      <td>1.000000</td>\n",
       "      <td>0.043776</td>\n",
       "      <td>0.017917</td>\n",
       "      <td>-0.000686</td>\n",
       "      <td>0.017955</td>\n",
       "      <td>0.016032</td>\n",
       "      <td>-0.001560</td>\n",
       "      <td>0.014859</td>\n",
       "      <td>-0.006429</td>\n",
       "      <td>0.016642</td>\n",
       "      <td>0.016799</td>\n",
       "      <td>0.022318</td>\n",
       "      <td>0.020176</td>\n",
       "      <td>0.004570</td>\n",
       "      <td>0.019601</td>\n",
       "      <td>-0.008888</td>\n",
       "      <td>-0.041922</td>\n",
       "      <td>0.029385</td>\n",
       "      <td>0.006687</td>\n",
       "      <td>-0.033656</td>\n",
       "    </tr>\n",
       "    <tr>\n",
       "      <th>Comp</th>\n",
       "      <td>0.043776</td>\n",
       "      <td>1.000000</td>\n",
       "      <td>0.685515</td>\n",
       "      <td>0.782416</td>\n",
       "      <td>0.681598</td>\n",
       "      <td>0.098000</td>\n",
       "      <td>0.120446</td>\n",
       "      <td>0.807686</td>\n",
       "      <td>-0.784352</td>\n",
       "      <td>0.808425</td>\n",
       "      <td>0.669999</td>\n",
       "      <td>0.756467</td>\n",
       "      <td>0.813816</td>\n",
       "      <td>0.584643</td>\n",
       "      <td>-0.249420</td>\n",
       "      <td>0.213224</td>\n",
       "      <td>0.136192</td>\n",
       "      <td>0.315362</td>\n",
       "      <td>0.370891</td>\n",
       "      <td>-0.015112</td>\n",
       "    </tr>\n",
       "    <tr>\n",
       "      <th>Circ</th>\n",
       "      <td>0.017917</td>\n",
       "      <td>0.685515</td>\n",
       "      <td>1.000000</td>\n",
       "      <td>0.799001</td>\n",
       "      <td>0.621623</td>\n",
       "      <td>0.156770</td>\n",
       "      <td>0.234471</td>\n",
       "      <td>0.860339</td>\n",
       "      <td>-0.828911</td>\n",
       "      <td>0.857357</td>\n",
       "      <td>0.965119</td>\n",
       "      <td>0.803929</td>\n",
       "      <td>0.851841</td>\n",
       "      <td>0.938749</td>\n",
       "      <td>0.053117</td>\n",
       "      <td>0.137134</td>\n",
       "      <td>-0.041619</td>\n",
       "      <td>-0.103991</td>\n",
       "      <td>0.050379</td>\n",
       "      <td>-0.171417</td>\n",
       "    </tr>\n",
       "    <tr>\n",
       "      <th>D_Circ</th>\n",
       "      <td>-0.000686</td>\n",
       "      <td>0.782416</td>\n",
       "      <td>0.799001</td>\n",
       "      <td>1.000000</td>\n",
       "      <td>0.764652</td>\n",
       "      <td>0.168777</td>\n",
       "      <td>0.240817</td>\n",
       "      <td>0.905598</td>\n",
       "      <td>-0.910257</td>\n",
       "      <td>0.894926</td>\n",
       "      <td>0.773701</td>\n",
       "      <td>0.858005</td>\n",
       "      <td>0.887997</td>\n",
       "      <td>0.715118</td>\n",
       "      <td>-0.227167</td>\n",
       "      <td>0.118065</td>\n",
       "      <td>0.240566</td>\n",
       "      <td>0.155967</td>\n",
       "      <td>0.342472</td>\n",
       "      <td>-0.070422</td>\n",
       "    </tr>\n",
       "    <tr>\n",
       "      <th>Rad_Ra</th>\n",
       "      <td>0.017955</td>\n",
       "      <td>0.681598</td>\n",
       "      <td>0.621623</td>\n",
       "      <td>0.764652</td>\n",
       "      <td>1.000000</td>\n",
       "      <td>0.679403</td>\n",
       "      <td>0.447076</td>\n",
       "      <td>0.736257</td>\n",
       "      <td>-0.788814</td>\n",
       "      <td>0.708706</td>\n",
       "      <td>0.565054</td>\n",
       "      <td>0.805961</td>\n",
       "      <td>0.725038</td>\n",
       "      <td>0.549433</td>\n",
       "      <td>-0.137810</td>\n",
       "      <td>0.053169</td>\n",
       "      <td>0.154588</td>\n",
       "      <td>0.382966</td>\n",
       "      <td>0.463067</td>\n",
       "      <td>-0.198390</td>\n",
       "    </tr>\n",
       "    <tr>\n",
       "      <th>Pr_Axis_Ra</th>\n",
       "      <td>0.016032</td>\n",
       "      <td>0.098000</td>\n",
       "      <td>0.156770</td>\n",
       "      <td>0.168777</td>\n",
       "      <td>0.679403</td>\n",
       "      <td>1.000000</td>\n",
       "      <td>0.669598</td>\n",
       "      <td>0.117125</td>\n",
       "      <td>-0.193680</td>\n",
       "      <td>0.089976</td>\n",
       "      <td>0.134261</td>\n",
       "      <td>0.305815</td>\n",
       "      <td>0.104121</td>\n",
       "      <td>0.137493</td>\n",
       "      <td>0.208299</td>\n",
       "      <td>-0.054422</td>\n",
       "      <td>-0.035425</td>\n",
       "      <td>0.228666</td>\n",
       "      <td>0.257122</td>\n",
       "      <td>-0.110222</td>\n",
       "    </tr>\n",
       "    <tr>\n",
       "      <th>Max_L_Ra</th>\n",
       "      <td>-0.001560</td>\n",
       "      <td>0.120446</td>\n",
       "      <td>0.234471</td>\n",
       "      <td>0.240817</td>\n",
       "      <td>0.447076</td>\n",
       "      <td>0.669598</td>\n",
       "      <td>1.000000</td>\n",
       "      <td>0.146370</td>\n",
       "      <td>-0.157702</td>\n",
       "      <td>0.142009</td>\n",
       "      <td>0.291938</td>\n",
       "      <td>0.319976</td>\n",
       "      <td>0.125102</td>\n",
       "      <td>0.188278</td>\n",
       "      <td>0.348971</td>\n",
       "      <td>0.009765</td>\n",
       "      <td>0.018541</td>\n",
       "      <td>-0.045766</td>\n",
       "      <td>0.123778</td>\n",
       "      <td>0.190215</td>\n",
       "    </tr>\n",
       "    <tr>\n",
       "      <th>Scat_Ra</th>\n",
       "      <td>0.014859</td>\n",
       "      <td>0.807686</td>\n",
       "      <td>0.860339</td>\n",
       "      <td>0.905598</td>\n",
       "      <td>0.736257</td>\n",
       "      <td>0.117125</td>\n",
       "      <td>0.146370</td>\n",
       "      <td>1.000000</td>\n",
       "      <td>-0.973523</td>\n",
       "      <td>0.991787</td>\n",
       "      <td>0.809629</td>\n",
       "      <td>0.945460</td>\n",
       "      <td>0.996412</td>\n",
       "      <td>0.804632</td>\n",
       "      <td>-0.033373</td>\n",
       "      <td>0.068231</td>\n",
       "      <td>0.191242</td>\n",
       "      <td>0.021518</td>\n",
       "      <td>0.131811</td>\n",
       "      <td>-0.289056</td>\n",
       "    </tr>\n",
       "    <tr>\n",
       "      <th>Elong</th>\n",
       "      <td>-0.006429</td>\n",
       "      <td>-0.784352</td>\n",
       "      <td>-0.828911</td>\n",
       "      <td>-0.910257</td>\n",
       "      <td>-0.788814</td>\n",
       "      <td>-0.193680</td>\n",
       "      <td>-0.157702</td>\n",
       "      <td>-0.973523</td>\n",
       "      <td>1.000000</td>\n",
       "      <td>-0.949891</td>\n",
       "      <td>-0.773279</td>\n",
       "      <td>-0.932824</td>\n",
       "      <td>-0.957282</td>\n",
       "      <td>-0.771836</td>\n",
       "      <td>0.106339</td>\n",
       "      <td>-0.053248</td>\n",
       "      <td>-0.165277</td>\n",
       "      <td>-0.131054</td>\n",
       "      <td>-0.230072</td>\n",
       "      <td>0.338634</td>\n",
       "    </tr>\n",
       "    <tr>\n",
       "      <th>Pr_Axis_Rect</th>\n",
       "      <td>0.016642</td>\n",
       "      <td>0.808425</td>\n",
       "      <td>0.857357</td>\n",
       "      <td>0.894926</td>\n",
       "      <td>0.708706</td>\n",
       "      <td>0.089976</td>\n",
       "      <td>0.142009</td>\n",
       "      <td>0.991787</td>\n",
       "      <td>-0.949891</td>\n",
       "      <td>1.000000</td>\n",
       "      <td>0.812405</td>\n",
       "      <td>0.931380</td>\n",
       "      <td>0.992075</td>\n",
       "      <td>0.801218</td>\n",
       "      <td>-0.022921</td>\n",
       "      <td>0.074895</td>\n",
       "      <td>0.194278</td>\n",
       "      <td>-0.006111</td>\n",
       "      <td>0.109542</td>\n",
       "      <td>-0.254703</td>\n",
       "    </tr>\n",
       "    <tr>\n",
       "      <th>Max_L_Rect</th>\n",
       "      <td>0.016799</td>\n",
       "      <td>0.669999</td>\n",
       "      <td>0.965119</td>\n",
       "      <td>0.773701</td>\n",
       "      <td>0.565054</td>\n",
       "      <td>0.134261</td>\n",
       "      <td>0.291938</td>\n",
       "      <td>0.809629</td>\n",
       "      <td>-0.773279</td>\n",
       "      <td>0.812405</td>\n",
       "      <td>1.000000</td>\n",
       "      <td>0.742417</td>\n",
       "      <td>0.796484</td>\n",
       "      <td>0.869801</td>\n",
       "      <td>0.040040</td>\n",
       "      <td>0.126961</td>\n",
       "      <td>-0.031125</td>\n",
       "      <td>-0.106711</td>\n",
       "      <td>0.081309</td>\n",
       "      <td>-0.042996</td>\n",
       "    </tr>\n",
       "    <tr>\n",
       "      <th>Sc_Var_Maxis</th>\n",
       "      <td>0.022318</td>\n",
       "      <td>0.756467</td>\n",
       "      <td>0.803929</td>\n",
       "      <td>0.858005</td>\n",
       "      <td>0.805961</td>\n",
       "      <td>0.305815</td>\n",
       "      <td>0.319976</td>\n",
       "      <td>0.945460</td>\n",
       "      <td>-0.932824</td>\n",
       "      <td>0.931380</td>\n",
       "      <td>0.742417</td>\n",
       "      <td>1.000000</td>\n",
       "      <td>0.943641</td>\n",
       "      <td>0.779030</td>\n",
       "      <td>0.126810</td>\n",
       "      <td>0.031305</td>\n",
       "      <td>0.176618</td>\n",
       "      <td>0.030397</td>\n",
       "      <td>0.096428</td>\n",
       "      <td>-0.306089</td>\n",
       "    </tr>\n",
       "    <tr>\n",
       "      <th>Sc_Var_maxis</th>\n",
       "      <td>0.020176</td>\n",
       "      <td>0.813816</td>\n",
       "      <td>0.851841</td>\n",
       "      <td>0.887997</td>\n",
       "      <td>0.725038</td>\n",
       "      <td>0.104121</td>\n",
       "      <td>0.125102</td>\n",
       "      <td>0.996412</td>\n",
       "      <td>-0.957282</td>\n",
       "      <td>0.992075</td>\n",
       "      <td>0.796484</td>\n",
       "      <td>0.943641</td>\n",
       "      <td>1.000000</td>\n",
       "      <td>0.799643</td>\n",
       "      <td>-0.026234</td>\n",
       "      <td>0.068733</td>\n",
       "      <td>0.186062</td>\n",
       "      <td>0.024218</td>\n",
       "      <td>0.118230</td>\n",
       "      <td>-0.289484</td>\n",
       "    </tr>\n",
       "    <tr>\n",
       "      <th>Ra_Gyr</th>\n",
       "      <td>0.004570</td>\n",
       "      <td>0.584643</td>\n",
       "      <td>0.938749</td>\n",
       "      <td>0.715118</td>\n",
       "      <td>0.549433</td>\n",
       "      <td>0.137493</td>\n",
       "      <td>0.188278</td>\n",
       "      <td>0.804632</td>\n",
       "      <td>-0.771836</td>\n",
       "      <td>0.801218</td>\n",
       "      <td>0.869801</td>\n",
       "      <td>0.779030</td>\n",
       "      <td>0.799643</td>\n",
       "      <td>1.000000</td>\n",
       "      <td>0.172230</td>\n",
       "      <td>0.166112</td>\n",
       "      <td>-0.068230</td>\n",
       "      <td>-0.207117</td>\n",
       "      <td>-0.091237</td>\n",
       "      <td>-0.228605</td>\n",
       "    </tr>\n",
       "    <tr>\n",
       "      <th>Skew_Maxis</th>\n",
       "      <td>0.019601</td>\n",
       "      <td>-0.249420</td>\n",
       "      <td>0.053117</td>\n",
       "      <td>-0.227167</td>\n",
       "      <td>-0.137810</td>\n",
       "      <td>0.208299</td>\n",
       "      <td>0.348971</td>\n",
       "      <td>-0.033373</td>\n",
       "      <td>0.106339</td>\n",
       "      <td>-0.022921</td>\n",
       "      <td>0.040040</td>\n",
       "      <td>0.126810</td>\n",
       "      <td>-0.026234</td>\n",
       "      <td>0.172230</td>\n",
       "      <td>1.000000</td>\n",
       "      <td>-0.105969</td>\n",
       "      <td>-0.106690</td>\n",
       "      <td>-0.729713</td>\n",
       "      <td>-0.780633</td>\n",
       "      <td>-0.178984</td>\n",
       "    </tr>\n",
       "    <tr>\n",
       "      <th>Skew_maxis</th>\n",
       "      <td>-0.008888</td>\n",
       "      <td>0.213224</td>\n",
       "      <td>0.137134</td>\n",
       "      <td>0.118065</td>\n",
       "      <td>0.053169</td>\n",
       "      <td>-0.054422</td>\n",
       "      <td>0.009765</td>\n",
       "      <td>0.068231</td>\n",
       "      <td>-0.053248</td>\n",
       "      <td>0.074895</td>\n",
       "      <td>0.126961</td>\n",
       "      <td>0.031305</td>\n",
       "      <td>0.068733</td>\n",
       "      <td>0.166112</td>\n",
       "      <td>-0.105969</td>\n",
       "      <td>1.000000</td>\n",
       "      <td>-0.032627</td>\n",
       "      <td>0.128443</td>\n",
       "      <td>0.116159</td>\n",
       "      <td>0.142547</td>\n",
       "    </tr>\n",
       "    <tr>\n",
       "      <th>Kurt_maxis</th>\n",
       "      <td>-0.041922</td>\n",
       "      <td>0.136192</td>\n",
       "      <td>-0.041619</td>\n",
       "      <td>0.240566</td>\n",
       "      <td>0.154588</td>\n",
       "      <td>-0.035425</td>\n",
       "      <td>0.018541</td>\n",
       "      <td>0.191242</td>\n",
       "      <td>-0.165277</td>\n",
       "      <td>0.194278</td>\n",
       "      <td>-0.031125</td>\n",
       "      <td>0.176618</td>\n",
       "      <td>0.186062</td>\n",
       "      <td>-0.068230</td>\n",
       "      <td>-0.106690</td>\n",
       "      <td>-0.032627</td>\n",
       "      <td>1.000000</td>\n",
       "      <td>0.084106</td>\n",
       "      <td>0.185579</td>\n",
       "      <td>-0.024255</td>\n",
       "    </tr>\n",
       "    <tr>\n",
       "      <th>Kurt_Maxis</th>\n",
       "      <td>0.029385</td>\n",
       "      <td>0.315362</td>\n",
       "      <td>-0.103991</td>\n",
       "      <td>0.155967</td>\n",
       "      <td>0.382966</td>\n",
       "      <td>0.228666</td>\n",
       "      <td>-0.045766</td>\n",
       "      <td>0.021518</td>\n",
       "      <td>-0.131054</td>\n",
       "      <td>-0.006111</td>\n",
       "      <td>-0.106711</td>\n",
       "      <td>0.030397</td>\n",
       "      <td>0.024218</td>\n",
       "      <td>-0.207117</td>\n",
       "      <td>-0.729713</td>\n",
       "      <td>0.128443</td>\n",
       "      <td>0.084106</td>\n",
       "      <td>1.000000</td>\n",
       "      <td>0.888799</td>\n",
       "      <td>0.028242</td>\n",
       "    </tr>\n",
       "    <tr>\n",
       "      <th>Holl_Ra</th>\n",
       "      <td>0.006687</td>\n",
       "      <td>0.370891</td>\n",
       "      <td>0.050379</td>\n",
       "      <td>0.342472</td>\n",
       "      <td>0.463067</td>\n",
       "      <td>0.257122</td>\n",
       "      <td>0.123778</td>\n",
       "      <td>0.131811</td>\n",
       "      <td>-0.230072</td>\n",
       "      <td>0.109542</td>\n",
       "      <td>0.081309</td>\n",
       "      <td>0.096428</td>\n",
       "      <td>0.118230</td>\n",
       "      <td>-0.091237</td>\n",
       "      <td>-0.780633</td>\n",
       "      <td>0.116159</td>\n",
       "      <td>0.185579</td>\n",
       "      <td>0.888799</td>\n",
       "      <td>1.000000</td>\n",
       "      <td>0.203227</td>\n",
       "    </tr>\n",
       "    <tr>\n",
       "      <th>Class</th>\n",
       "      <td>-0.033656</td>\n",
       "      <td>-0.015112</td>\n",
       "      <td>-0.171417</td>\n",
       "      <td>-0.070422</td>\n",
       "      <td>-0.198390</td>\n",
       "      <td>-0.110222</td>\n",
       "      <td>0.190215</td>\n",
       "      <td>-0.289056</td>\n",
       "      <td>0.338634</td>\n",
       "      <td>-0.254703</td>\n",
       "      <td>-0.042996</td>\n",
       "      <td>-0.306089</td>\n",
       "      <td>-0.289484</td>\n",
       "      <td>-0.228605</td>\n",
       "      <td>-0.178984</td>\n",
       "      <td>0.142547</td>\n",
       "      <td>-0.024255</td>\n",
       "      <td>0.028242</td>\n",
       "      <td>0.203227</td>\n",
       "      <td>1.000000</td>\n",
       "    </tr>\n",
       "  </tbody>\n",
       "</table>\n",
       "</div>"
      ],
      "text/plain": [
       "                    ID      Comp      Circ    D_Circ    Rad_Ra  Pr_Axis_Ra  \\\n",
       "ID            1.000000  0.043776  0.017917 -0.000686  0.017955    0.016032   \n",
       "Comp          0.043776  1.000000  0.685515  0.782416  0.681598    0.098000   \n",
       "Circ          0.017917  0.685515  1.000000  0.799001  0.621623    0.156770   \n",
       "D_Circ       -0.000686  0.782416  0.799001  1.000000  0.764652    0.168777   \n",
       "Rad_Ra        0.017955  0.681598  0.621623  0.764652  1.000000    0.679403   \n",
       "Pr_Axis_Ra    0.016032  0.098000  0.156770  0.168777  0.679403    1.000000   \n",
       "Max_L_Ra     -0.001560  0.120446  0.234471  0.240817  0.447076    0.669598   \n",
       "Scat_Ra       0.014859  0.807686  0.860339  0.905598  0.736257    0.117125   \n",
       "Elong        -0.006429 -0.784352 -0.828911 -0.910257 -0.788814   -0.193680   \n",
       "Pr_Axis_Rect  0.016642  0.808425  0.857357  0.894926  0.708706    0.089976   \n",
       "Max_L_Rect    0.016799  0.669999  0.965119  0.773701  0.565054    0.134261   \n",
       "Sc_Var_Maxis  0.022318  0.756467  0.803929  0.858005  0.805961    0.305815   \n",
       "Sc_Var_maxis  0.020176  0.813816  0.851841  0.887997  0.725038    0.104121   \n",
       "Ra_Gyr        0.004570  0.584643  0.938749  0.715118  0.549433    0.137493   \n",
       "Skew_Maxis    0.019601 -0.249420  0.053117 -0.227167 -0.137810    0.208299   \n",
       "Skew_maxis   -0.008888  0.213224  0.137134  0.118065  0.053169   -0.054422   \n",
       "Kurt_maxis   -0.041922  0.136192 -0.041619  0.240566  0.154588   -0.035425   \n",
       "Kurt_Maxis    0.029385  0.315362 -0.103991  0.155967  0.382966    0.228666   \n",
       "Holl_Ra       0.006687  0.370891  0.050379  0.342472  0.463067    0.257122   \n",
       "Class        -0.033656 -0.015112 -0.171417 -0.070422 -0.198390   -0.110222   \n",
       "\n",
       "              Max_L_Ra   Scat_Ra     Elong  Pr_Axis_Rect  Max_L_Rect  \\\n",
       "ID           -0.001560  0.014859 -0.006429      0.016642    0.016799   \n",
       "Comp          0.120446  0.807686 -0.784352      0.808425    0.669999   \n",
       "Circ          0.234471  0.860339 -0.828911      0.857357    0.965119   \n",
       "D_Circ        0.240817  0.905598 -0.910257      0.894926    0.773701   \n",
       "Rad_Ra        0.447076  0.736257 -0.788814      0.708706    0.565054   \n",
       "Pr_Axis_Ra    0.669598  0.117125 -0.193680      0.089976    0.134261   \n",
       "Max_L_Ra      1.000000  0.146370 -0.157702      0.142009    0.291938   \n",
       "Scat_Ra       0.146370  1.000000 -0.973523      0.991787    0.809629   \n",
       "Elong        -0.157702 -0.973523  1.000000     -0.949891   -0.773279   \n",
       "Pr_Axis_Rect  0.142009  0.991787 -0.949891      1.000000    0.812405   \n",
       "Max_L_Rect    0.291938  0.809629 -0.773279      0.812405    1.000000   \n",
       "Sc_Var_Maxis  0.319976  0.945460 -0.932824      0.931380    0.742417   \n",
       "Sc_Var_maxis  0.125102  0.996412 -0.957282      0.992075    0.796484   \n",
       "Ra_Gyr        0.188278  0.804632 -0.771836      0.801218    0.869801   \n",
       "Skew_Maxis    0.348971 -0.033373  0.106339     -0.022921    0.040040   \n",
       "Skew_maxis    0.009765  0.068231 -0.053248      0.074895    0.126961   \n",
       "Kurt_maxis    0.018541  0.191242 -0.165277      0.194278   -0.031125   \n",
       "Kurt_Maxis   -0.045766  0.021518 -0.131054     -0.006111   -0.106711   \n",
       "Holl_Ra       0.123778  0.131811 -0.230072      0.109542    0.081309   \n",
       "Class         0.190215 -0.289056  0.338634     -0.254703   -0.042996   \n",
       "\n",
       "              Sc_Var_Maxis  Sc_Var_maxis    Ra_Gyr  Skew_Maxis  Skew_maxis  \\\n",
       "ID                0.022318      0.020176  0.004570    0.019601   -0.008888   \n",
       "Comp              0.756467      0.813816  0.584643   -0.249420    0.213224   \n",
       "Circ              0.803929      0.851841  0.938749    0.053117    0.137134   \n",
       "D_Circ            0.858005      0.887997  0.715118   -0.227167    0.118065   \n",
       "Rad_Ra            0.805961      0.725038  0.549433   -0.137810    0.053169   \n",
       "Pr_Axis_Ra        0.305815      0.104121  0.137493    0.208299   -0.054422   \n",
       "Max_L_Ra          0.319976      0.125102  0.188278    0.348971    0.009765   \n",
       "Scat_Ra           0.945460      0.996412  0.804632   -0.033373    0.068231   \n",
       "Elong            -0.932824     -0.957282 -0.771836    0.106339   -0.053248   \n",
       "Pr_Axis_Rect      0.931380      0.992075  0.801218   -0.022921    0.074895   \n",
       "Max_L_Rect        0.742417      0.796484  0.869801    0.040040    0.126961   \n",
       "Sc_Var_Maxis      1.000000      0.943641  0.779030    0.126810    0.031305   \n",
       "Sc_Var_maxis      0.943641      1.000000  0.799643   -0.026234    0.068733   \n",
       "Ra_Gyr            0.779030      0.799643  1.000000    0.172230    0.166112   \n",
       "Skew_Maxis        0.126810     -0.026234  0.172230    1.000000   -0.105969   \n",
       "Skew_maxis        0.031305      0.068733  0.166112   -0.105969    1.000000   \n",
       "Kurt_maxis        0.176618      0.186062 -0.068230   -0.106690   -0.032627   \n",
       "Kurt_Maxis        0.030397      0.024218 -0.207117   -0.729713    0.128443   \n",
       "Holl_Ra           0.096428      0.118230 -0.091237   -0.780633    0.116159   \n",
       "Class            -0.306089     -0.289484 -0.228605   -0.178984    0.142547   \n",
       "\n",
       "              Kurt_maxis  Kurt_Maxis   Holl_Ra     Class  \n",
       "ID             -0.041922    0.029385  0.006687 -0.033656  \n",
       "Comp            0.136192    0.315362  0.370891 -0.015112  \n",
       "Circ           -0.041619   -0.103991  0.050379 -0.171417  \n",
       "D_Circ          0.240566    0.155967  0.342472 -0.070422  \n",
       "Rad_Ra          0.154588    0.382966  0.463067 -0.198390  \n",
       "Pr_Axis_Ra     -0.035425    0.228666  0.257122 -0.110222  \n",
       "Max_L_Ra        0.018541   -0.045766  0.123778  0.190215  \n",
       "Scat_Ra         0.191242    0.021518  0.131811 -0.289056  \n",
       "Elong          -0.165277   -0.131054 -0.230072  0.338634  \n",
       "Pr_Axis_Rect    0.194278   -0.006111  0.109542 -0.254703  \n",
       "Max_L_Rect     -0.031125   -0.106711  0.081309 -0.042996  \n",
       "Sc_Var_Maxis    0.176618    0.030397  0.096428 -0.306089  \n",
       "Sc_Var_maxis    0.186062    0.024218  0.118230 -0.289484  \n",
       "Ra_Gyr         -0.068230   -0.207117 -0.091237 -0.228605  \n",
       "Skew_Maxis     -0.106690   -0.729713 -0.780633 -0.178984  \n",
       "Skew_maxis     -0.032627    0.128443  0.116159  0.142547  \n",
       "Kurt_maxis      1.000000    0.084106  0.185579 -0.024255  \n",
       "Kurt_Maxis      0.084106    1.000000  0.888799  0.028242  \n",
       "Holl_Ra         0.185579    0.888799  1.000000  0.203227  \n",
       "Class          -0.024255    0.028242  0.203227  1.000000  "
      ]
     },
     "execution_count": 24,
     "metadata": {},
     "output_type": "execute_result"
    }
   ],
   "source": [
    "cor = cars.corr()\n",
    "cor"
   ]
  },
  {
   "cell_type": "code",
   "execution_count": 25,
   "id": "a9bedf94",
   "metadata": {},
   "outputs": [
    {
     "data": {
      "text/plain": [
       "<AxesSubplot:>"
      ]
     },
     "execution_count": 25,
     "metadata": {},
     "output_type": "execute_result"
    },
    {
     "data": {
      "image/png": "[encoded data removed]",
      "text/plain": [
       "<Figure size 1080x648 with 2 Axes>"
      ]
     },
     "metadata": {
      "needs_background": "light"
     },
     "output_type": "display_data"
    }
   ],
   "source": [
    "# plotting correlations on a heatmap\n",
    "\n",
    "#figure size\n",
    "plt.figure(figsize=(15,9))\n",
    "\n",
    "#heatmap\n",
    "sns.heatmap(cor, cmap=\"rocket\", annot= True)"
   ]
  },
  {
   "cell_type": "code",
   "execution_count": 26,
   "id": "0eb11223",
   "metadata": {},
   "outputs": [
    {
     "data": {
      "text/plain": [
       "<AxesSubplot:>"
      ]
     },
     "execution_count": 26,
     "metadata": {},
     "output_type": "execute_result"
    },
    {
     "data": {
      "image/png": "[encoded data removed]",
      "text/plain": [
       "<Figure size 1800x720 with 1 Axes>"
      ]
     },
     "metadata": {
      "needs_background": "light"
     },
     "output_type": "display_data"
    }
   ],
   "source": [
    "plt.figure(figsize=(25,10))\n",
    "cars.boxplot()"
   ]
  },
  {
   "cell_type": "code",
   "execution_count": 27,
   "id": "254daba5",
   "metadata": {},
   "outputs": [
    {
     "data": {
      "text/plain": [
       "Index(['ID', 'Comp', 'Circ', 'D_Circ', 'Rad_Ra', 'Pr_Axis_Ra', 'Max_L_Ra',\n",
       "       'Scat_Ra', 'Elong', 'Pr_Axis_Rect', 'Max_L_Rect', 'Sc_Var_Maxis',\n",
       "       'Sc_Var_maxis', 'Ra_Gyr', 'Skew_Maxis', 'Skew_maxis', 'Kurt_maxis',\n",
       "       'Kurt_Maxis', 'Holl_Ra', 'Class'],\n",
       "      dtype='object')"
      ]
     },
     "execution_count": 27,
     "metadata": {},
     "output_type": "execute_result"
    }
   ],
   "source": [
    "cars.columns"
   ]
  },
  {
   "cell_type": "markdown",
   "id": "e0c84d1b",
   "metadata": {},
   "source": [
    "## Splitting the dataset"
   ]
  },
  {
   "cell_type": "code",
   "execution_count": 28,
   "id": "03238508",
   "metadata": {},
   "outputs": [],
   "source": [
    "X = cars.drop(\"Class\", axis=1)\n",
    "y = cars[\"Class\"]"
   ]
  },
  {
   "cell_type": "code",
   "execution_count": 29,
   "id": "88c3e02c",
   "metadata": {},
   "outputs": [
    {
     "data": {
      "text/html": [
       "<div>\n",
       "<style scoped>\n",
       "    .dataframe tbody tr th:only-of-type {\n",
       "        vertical-align: middle;\n",
       "    }\n",
       "\n",
       "    .dataframe tbody tr th {\n",
       "        vertical-align: top;\n",
       "    }\n",
       "\n",
       "    .dataframe thead th {\n",
       "        text-align: right;\n",
       "    }\n",
       "</style>\n",
       "<table border=\"1\" class=\"dataframe\">\n",
       "  <thead>\n",
       "    <tr style=\"text-align: right;\">\n",
       "      <th></th>\n",
       "      <th>ID</th>\n",
       "      <th>Comp</th>\n",
       "      <th>Circ</th>\n",
       "      <th>D_Circ</th>\n",
       "      <th>Rad_Ra</th>\n",
       "      <th>Pr_Axis_Ra</th>\n",
       "      <th>Max_L_Ra</th>\n",
       "      <th>Scat_Ra</th>\n",
       "      <th>Elong</th>\n",
       "      <th>Pr_Axis_Rect</th>\n",
       "      <th>Max_L_Rect</th>\n",
       "      <th>Sc_Var_Maxis</th>\n",
       "      <th>Sc_Var_maxis</th>\n",
       "      <th>Ra_Gyr</th>\n",
       "      <th>Skew_Maxis</th>\n",
       "      <th>Skew_maxis</th>\n",
       "      <th>Kurt_maxis</th>\n",
       "      <th>Kurt_Maxis</th>\n",
       "      <th>Holl_Ra</th>\n",
       "    </tr>\n",
       "  </thead>\n",
       "  <tbody>\n",
       "    <tr>\n",
       "      <th>0</th>\n",
       "      <td>1</td>\n",
       "      <td>88</td>\n",
       "      <td>39</td>\n",
       "      <td>70</td>\n",
       "      <td>166</td>\n",
       "      <td>66</td>\n",
       "      <td>7</td>\n",
       "      <td>148</td>\n",
       "      <td>44</td>\n",
       "      <td>19</td>\n",
       "      <td>134</td>\n",
       "      <td>167</td>\n",
       "      <td>332</td>\n",
       "      <td>143</td>\n",
       "      <td>69</td>\n",
       "      <td>5</td>\n",
       "      <td>13</td>\n",
       "      <td>193</td>\n",
       "      <td>201</td>\n",
       "    </tr>\n",
       "    <tr>\n",
       "      <th>1</th>\n",
       "      <td>2</td>\n",
       "      <td>85</td>\n",
       "      <td>35</td>\n",
       "      <td>64</td>\n",
       "      <td>129</td>\n",
       "      <td>57</td>\n",
       "      <td>6</td>\n",
       "      <td>116</td>\n",
       "      <td>57</td>\n",
       "      <td>17</td>\n",
       "      <td>125</td>\n",
       "      <td>138</td>\n",
       "      <td>200</td>\n",
       "      <td>123</td>\n",
       "      <td>65</td>\n",
       "      <td>1</td>\n",
       "      <td>23</td>\n",
       "      <td>196</td>\n",
       "      <td>203</td>\n",
       "    </tr>\n",
       "    <tr>\n",
       "      <th>2</th>\n",
       "      <td>3</td>\n",
       "      <td>91</td>\n",
       "      <td>41</td>\n",
       "      <td>84</td>\n",
       "      <td>141</td>\n",
       "      <td>57</td>\n",
       "      <td>9</td>\n",
       "      <td>149</td>\n",
       "      <td>45</td>\n",
       "      <td>19</td>\n",
       "      <td>143</td>\n",
       "      <td>170</td>\n",
       "      <td>330</td>\n",
       "      <td>158</td>\n",
       "      <td>72</td>\n",
       "      <td>9</td>\n",
       "      <td>14</td>\n",
       "      <td>189</td>\n",
       "      <td>199</td>\n",
       "    </tr>\n",
       "    <tr>\n",
       "      <th>3</th>\n",
       "      <td>4</td>\n",
       "      <td>102</td>\n",
       "      <td>54</td>\n",
       "      <td>98</td>\n",
       "      <td>177</td>\n",
       "      <td>56</td>\n",
       "      <td>10</td>\n",
       "      <td>219</td>\n",
       "      <td>31</td>\n",
       "      <td>25</td>\n",
       "      <td>171</td>\n",
       "      <td>219</td>\n",
       "      <td>706</td>\n",
       "      <td>223</td>\n",
       "      <td>72</td>\n",
       "      <td>5</td>\n",
       "      <td>17</td>\n",
       "      <td>186</td>\n",
       "      <td>196</td>\n",
       "    </tr>\n",
       "    <tr>\n",
       "      <th>4</th>\n",
       "      <td>5</td>\n",
       "      <td>87</td>\n",
       "      <td>39</td>\n",
       "      <td>74</td>\n",
       "      <td>152</td>\n",
       "      <td>58</td>\n",
       "      <td>6</td>\n",
       "      <td>151</td>\n",
       "      <td>44</td>\n",
       "      <td>19</td>\n",
       "      <td>136</td>\n",
       "      <td>174</td>\n",
       "      <td>337</td>\n",
       "      <td>140</td>\n",
       "      <td>70</td>\n",
       "      <td>1</td>\n",
       "      <td>33</td>\n",
       "      <td>187</td>\n",
       "      <td>196</td>\n",
       "    </tr>\n",
       "  </tbody>\n",
       "</table>\n",
       "</div>"
      ],
      "text/plain": [
       "   ID  Comp  Circ  D_Circ  Rad_Ra  Pr_Axis_Ra  Max_L_Ra  Scat_Ra  Elong  \\\n",
       "0   1    88    39      70     166          66         7      148     44   \n",
       "1   2    85    35      64     129          57         6      116     57   \n",
       "2   3    91    41      84     141          57         9      149     45   \n",
       "3   4   102    54      98     177          56        10      219     31   \n",
       "4   5    87    39      74     152          58         6      151     44   \n",
       "\n",
       "   Pr_Axis_Rect  Max_L_Rect  Sc_Var_Maxis  Sc_Var_maxis  Ra_Gyr  Skew_Maxis  \\\n",
       "0            19         134           167           332     143          69   \n",
       "1            17         125           138           200     123          65   \n",
       "2            19         143           170           330     158          72   \n",
       "3            25         171           219           706     223          72   \n",
       "4            19         136           174           337     140          70   \n",
       "\n",
       "   Skew_maxis  Kurt_maxis  Kurt_Maxis  Holl_Ra  \n",
       "0           5          13         193      201  \n",
       "1           1          23         196      203  \n",
       "2           9          14         189      199  \n",
       "3           5          17         186      196  \n",
       "4           1          33         187      196  "
      ]
     },
     "execution_count": 29,
     "metadata": {},
     "output_type": "execute_result"
    }
   ],
   "source": [
    "X.head()"
   ]
  },
  {
   "cell_type": "code",
   "execution_count": 30,
   "id": "3b3bc502",
   "metadata": {},
   "outputs": [],
   "source": [
    "from sklearn.model_selection import train_test_split\n",
    "from sklearn.model_selection import cross_val_score\n",
    "from sklearn.metrics import accuracy_score\n",
    "\n",
    "M_df = {}\n",
    "#split into train and test\n",
    "def model_val(model,X,y):\n",
    "    X_train, X_test, y_train, y_test = train_test_split(X,y,test_size=0.2,random_state=42)\n",
    "    model.fit(X_train,y_train)\n",
    "    y_pred = model.predict(X_test)\n",
    "    print(f\"{model} accuracy is {accuracy_score(y_test,y_pred)}\")\n",
    "# cross validation to evaluate the model    \n",
    "    cv = cross_val_score(model, X, y, cv=10)\n",
    "    print(f\"{model} avg cross val score is {np.mean(cv)}\")\n",
    "    M_df[model] = round(np.mean(cv)*100,2)"
   ]
  },
  {
   "cell_type": "markdown",
   "id": "095657cd",
   "metadata": {},
   "source": [
    "## Model Building"
   ]
  },
  {
   "cell_type": "code",
   "execution_count": 31,
   "id": "2ea136ec",
   "metadata": {},
   "outputs": [
    {
     "name": "stdout",
     "output_type": "stream",
     "text": [
      "LogisticRegression() accuracy is 0.6319444444444444\n",
      "LogisticRegression() avg cross val score is 0.7024061032863849\n"
     ]
    }
   ],
   "source": [
    "#importing logistic regression from scikit learn\n",
    "from sklearn.linear_model import LogisticRegression\n",
    "from sklearn.metrics import accuracy_score\n",
    "\n",
    "#initiating the instance\n",
    "model = LogisticRegression()\n",
    "\n",
    "#calling the model_val\n",
    "model_val(model,X,y)"
   ]
  },
  {
   "cell_type": "code",
   "execution_count": 32,
   "id": "5fd14566",
   "metadata": {},
   "outputs": [
    {
     "name": "stdout",
     "output_type": "stream",
     "text": [
      "SVC() accuracy is 0.3819444444444444\n",
      "SVC() avg cross val score is 0.44925665101721435\n"
     ]
    }
   ],
   "source": [
    "#importing svm from scikit learn\n",
    "from sklearn import svm\n",
    "\n",
    "#initiating the instance\n",
    "model = svm.SVC()\n",
    "\n",
    "#calling the model_val\n",
    "model_val(model,X,y)"
   ]
  },
  {
   "cell_type": "code",
   "execution_count": 33,
   "id": "ccf883ed",
   "metadata": {},
   "outputs": [
    {
     "name": "stdout",
     "output_type": "stream",
     "text": [
      "RandomForestClassifier() accuracy is 0.7152777777777778\n",
      "RandomForestClassifier() avg cross val score is 0.7455594679186228\n"
     ]
    }
   ],
   "source": [
    "#importing Random Forest Classifier from scikit learn\n",
    "from sklearn.ensemble import RandomForestClassifier\n",
    "\n",
    "#initiating the instance\n",
    "model = RandomForestClassifier()\n",
    "\n",
    "#calling the model_val\n",
    "model_val(model,X,y)"
   ]
  },
  {
   "cell_type": "markdown",
   "id": "a502aef3",
   "metadata": {},
   "source": [
    "## Feature Scaling"
   ]
  },
  {
   "cell_type": "code",
   "execution_count": 34,
   "id": "ea123cb8",
   "metadata": {},
   "outputs": [],
   "source": [
    "from sklearn.preprocessing import StandardScaler\n",
    "st = StandardScaler()\n",
    "X = st.fit_transform(X)"
   ]
  },
  {
   "cell_type": "code",
   "execution_count": 35,
   "id": "5fa0451e",
   "metadata": {},
   "outputs": [
    {
     "data": {
      "text/plain": [
       "(719, 19)"
      ]
     },
     "execution_count": 35,
     "metadata": {},
     "output_type": "execute_result"
    }
   ],
   "source": [
    "X.shape"
   ]
  },
  {
   "cell_type": "code",
   "execution_count": 36,
   "id": "b2d40047",
   "metadata": {},
   "outputs": [
    {
     "data": {
      "text/plain": [
       "array([[-2.06654196, -1.48232522,  0.4702364 , ..., -0.2164705 ,\n",
       "         0.04302561,  0.0868139 ],\n",
       "       [-4.75867548, -2.33415942, -0.30396157, ...,  0.0184468 ,\n",
       "        -0.57695842,  0.23691357],\n",
       "       [-1.56509571, -0.51081373, -0.37090154, ...,  0.42426027,\n",
       "         0.19609049,  0.14400489],\n",
       "       ...,\n",
       "       [-2.59873527, -1.99351029, -0.35003383, ..., -0.20229619,\n",
       "        -0.26363373,  0.49846801],\n",
       "       [ 4.74757021,  0.48945456,  0.80917616, ..., -0.5756592 ,\n",
       "         0.11362471, -0.55175821],\n",
       "       [-0.67295175, -2.43229428,  0.439591  , ...,  0.3132691 ,\n",
       "        -0.72576457,  0.32925657]])"
      ]
     },
     "execution_count": 36,
     "metadata": {},
     "output_type": "execute_result"
    }
   ],
   "source": [
    "from sklearn.decomposition import PCA\n",
    "\n",
    "#Based on the plot, we will select 10 components\n",
    "pca = PCA(n_components=10)\n",
    "pca.fit(X)\n",
    "\n",
    "#Assign the components to the X variable\n",
    "X_pca = pca.transform(X)\n",
    "X_pca"
   ]
  },
  {
   "cell_type": "code",
   "execution_count": 37,
   "id": "1558d782",
   "metadata": {},
   "outputs": [
    {
     "data": {
      "text/plain": [
       "(719, 10)"
      ]
     },
     "execution_count": 37,
     "metadata": {},
     "output_type": "execute_result"
    }
   ],
   "source": [
    "X_pca.shape"
   ]
  },
  {
   "cell_type": "markdown",
   "id": "128045f0",
   "metadata": {},
   "source": [
    "**Logistic Regression**"
   ]
  },
  {
   "cell_type": "code",
   "execution_count": 38,
   "id": "23480647",
   "metadata": {},
   "outputs": [
    {
     "name": "stdout",
     "output_type": "stream",
     "text": [
      "LogisticRegression() accuracy is 0.7152777777777778\n",
      "LogisticRegression() avg cross val score is 0.7148669796557121\n"
     ]
    }
   ],
   "source": [
    "#initiating the instance\n",
    "model = LogisticRegression()\n",
    "\n",
    "#calling the model_val\n",
    "model_val(model,X_pca,y)"
   ]
  },
  {
   "cell_type": "markdown",
   "id": "b80df112",
   "metadata": {},
   "source": [
    "**Support Vector Classifier**"
   ]
  },
  {
   "cell_type": "code",
   "execution_count": 39,
   "id": "6a60a44d",
   "metadata": {},
   "outputs": [
    {
     "name": "stdout",
     "output_type": "stream",
     "text": [
      "SVC() accuracy is 0.7083333333333334\n",
      "SVC() avg cross val score is 0.7357785602503912\n"
     ]
    }
   ],
   "source": [
    "#initiating the instance\n",
    "model = svm.SVC()\n",
    "\n",
    "#calling the model_val\n",
    "model_val(model,X_pca,y)"
   ]
  },
  {
   "cell_type": "markdown",
   "id": "2fff26d8",
   "metadata": {},
   "source": [
    "**Random Forest Classifier**"
   ]
  },
  {
   "cell_type": "code",
   "execution_count": 40,
   "id": "3cb448e2",
   "metadata": {},
   "outputs": [
    {
     "name": "stdout",
     "output_type": "stream",
     "text": [
      "RandomForestClassifier() accuracy is 0.7638888888888888\n",
      "RandomForestClassifier() avg cross val score is 0.7593505477308294\n"
     ]
    }
   ],
   "source": [
    "#initiating the instance\n",
    "model = RandomForestClassifier()\n",
    "\n",
    "#calling the model_val\n",
    "model_val(model,X_pca,y)"
   ]
  },
  {
   "cell_type": "code",
   "execution_count": 41,
   "id": "c45a7eb5",
   "metadata": {},
   "outputs": [
    {
     "data": {
      "text/plain": [
       "{LogisticRegression(): 70.24,\n",
       " SVC(): 44.93,\n",
       " RandomForestClassifier(): 74.56,\n",
       " LogisticRegression(): 71.49,\n",
       " SVC(): 73.58,\n",
       " RandomForestClassifier(): 75.94}"
      ]
     },
     "execution_count": 41,
     "metadata": {},
     "output_type": "execute_result"
    }
   ],
   "source": [
    "M_df"
   ]
  },
  {
   "cell_type": "markdown",
   "id": "d05b9654",
   "metadata": {},
   "source": [
    "We can see that after feature scaling and dimensionality reduction the accuary of the logistic regression and SVC is increased."
   ]
  },
  {
   "cell_type": "markdown",
   "id": "5787bd81",
   "metadata": {},
   "source": [
    "**Hyperparameter Tuning**"
   ]
  },
  {
   "cell_type": "code",
   "execution_count": 42,
   "id": "7e46322e",
   "metadata": {},
   "outputs": [],
   "source": [
    "from sklearn.model_selection import RandomizedSearchCV"
   ]
  },
  {
   "cell_type": "markdown",
   "id": "32617c10",
   "metadata": {},
   "source": [
    "**Logistic Regression**"
   ]
  },
  {
   "cell_type": "code",
   "execution_count": 43,
   "id": "68424c3a",
   "metadata": {},
   "outputs": [
    {
     "name": "stdout",
     "output_type": "stream",
     "text": [
      "Fitting 10 folds for each of 20 candidates, totalling 200 fits\n"
     ]
    },
    {
     "data": {
      "text/plain": [
       "RandomizedSearchCV(cv=10, estimator=LogisticRegression(), n_iter=20,\n",
       "                   param_distributions={'C': array([1.00000000e-04, 2.63665090e-04, 6.95192796e-04, 1.83298071e-03,\n",
       "       4.83293024e-03, 1.27427499e-02, 3.35981829e-02, 8.85866790e-02,\n",
       "       2.33572147e-01, 6.15848211e-01, 1.62377674e+00, 4.28133240e+00,\n",
       "       1.12883789e+01, 2.97635144e+01, 7.84759970e+01, 2.06913808e+02,\n",
       "       5.45559478e+02, 1.43844989e+03, 3.79269019e+03, 1.00000000e+04]),\n",
       "                                        'solver': ['liblinear']},\n",
       "                   verbose=True)"
      ]
     },
     "execution_count": 43,
     "metadata": {},
     "output_type": "execute_result"
    }
   ],
   "source": [
    "L_pm = {\"C\":np.logspace(-4,4,20), \"solver\":['liblinear']}\n",
    "\n",
    "Rand_Log = RandomizedSearchCV(LogisticRegression(), param_distributions = L_pm, n_iter=20, cv=10, verbose = True)\n",
    "\n",
    "Rand_Log.fit(X_pca,y)"
   ]
  },
  {
   "cell_type": "code",
   "execution_count": 44,
   "id": "58136087",
   "metadata": {},
   "outputs": [
    {
     "data": {
      "text/plain": [
       "0.717605633802817"
      ]
     },
     "execution_count": 44,
     "metadata": {},
     "output_type": "execute_result"
    }
   ],
   "source": [
    "Rand_Log.best_score_"
   ]
  },
  {
   "cell_type": "code",
   "execution_count": 45,
   "id": "c9577002",
   "metadata": {},
   "outputs": [
    {
     "data": {
      "text/plain": [
       "{'solver': 'liblinear', 'C': 0.615848211066026}"
      ]
     },
     "execution_count": 45,
     "metadata": {},
     "output_type": "execute_result"
    }
   ],
   "source": [
    "Rand_Log.best_params_"
   ]
  },
  {
   "cell_type": "markdown",
   "id": "a570f6ec",
   "metadata": {},
   "source": [
    "**Support Vector Classifier**"
   ]
  },
  {
   "cell_type": "code",
   "execution_count": 46,
   "id": "fd84c282",
   "metadata": {},
   "outputs": [
    {
     "name": "stdout",
     "output_type": "stream",
     "text": [
      "Fitting 10 folds for each of 4 candidates, totalling 40 fits\n"
     ]
    },
    {
     "data": {
      "text/plain": [
       "RandomizedSearchCV(cv=10, estimator=SVC(), n_iter=20,\n",
       "                   param_distributions={'C': [0.2, 0.7, 0.5, 1],\n",
       "                                        'kernel': ['linear']},\n",
       "                   verbose=True)"
      ]
     },
     "execution_count": 46,
     "metadata": {},
     "output_type": "execute_result"
    }
   ],
   "source": [
    "S_pm = {'C': [0.2, 0.7, 0.5, 1], 'kernel': ['linear']}\n",
    "\n",
    "Rand_SVC = RandomizedSearchCV(svm.SVC(), param_distributions = S_pm, n_iter=20, cv=10, verbose = True)\n",
    "\n",
    "Rand_SVC.fit(X_pca,y)"
   ]
  },
  {
   "cell_type": "code",
   "execution_count": 47,
   "id": "d72e3648",
   "metadata": {},
   "outputs": [
    {
     "data": {
      "text/plain": [
       "0.7356611893583725"
      ]
     },
     "execution_count": 47,
     "metadata": {},
     "output_type": "execute_result"
    }
   ],
   "source": [
    "Rand_SVC.best_score_"
   ]
  },
  {
   "cell_type": "code",
   "execution_count": 48,
   "id": "ce23524b",
   "metadata": {},
   "outputs": [
    {
     "data": {
      "text/plain": [
       "{'kernel': 'linear', 'C': 0.5}"
      ]
     },
     "execution_count": 48,
     "metadata": {},
     "output_type": "execute_result"
    }
   ],
   "source": [
    "Rand_SVC.best_params_"
   ]
  },
  {
   "cell_type": "code",
   "execution_count": 49,
   "id": "a5883d1f",
   "metadata": {},
   "outputs": [
    {
     "name": "stdout",
     "output_type": "stream",
     "text": [
      "Fitting 10 folds for each of 20 candidates, totalling 200 fits\n"
     ]
    },
    {
     "data": {
      "text/plain": [
       "RandomizedSearchCV(cv=10, estimator=RandomForestClassifier(), n_iter=20,\n",
       "                   param_distributions={'max_depth': [None, 3, 5],\n",
       "                                        'max_features': ['auto', 'sqrt'],\n",
       "                                        'min_samples_leaf': [1, 2, 5, 10],\n",
       "                                        'n_estimators': array([ 10,  20,  30,  40,  50,  60,  70,  80,  90, 100, 110, 120, 130,\n",
       "       140, 150, 160, 170, 180, 190, 200, 210, 220, 230, 240, 250, 260,\n",
       "       270, 280, 290, 300, 310, 320, 330, 340, 350, 360, 370, 380, 390,\n",
       "       400, 410, 420, 430, 440, 450, 460, 470, 480, 490, 500, 510, 520,\n",
       "       530, 540, 550, 560, 570, 580, 590, 600, 610, 620, 630, 640, 650,\n",
       "       660, 670, 680, 690, 700, 710, 720, 730, 740, 750, 760, 770, 780,\n",
       "       790, 800, 810, 820, 830, 840, 850, 860, 870, 880, 890, 900, 910,\n",
       "       920, 930, 940, 950, 960, 970, 980, 990])},\n",
       "                   verbose=True)"
      ]
     },
     "execution_count": 49,
     "metadata": {},
     "output_type": "execute_result"
    }
   ],
   "source": [
    "R_pm = {\"n_estimators\":np.arange(10,1000,10), \"max_depth\": [None,3,5], \"max_features\": ['auto','sqrt'], \n",
    "        \"min_samples_leaf\": [1,2,5,10]}\n",
    "\n",
    "Rand_RF = RandomizedSearchCV(RandomForestClassifier(), param_distributions = R_pm, n_iter=20, cv=10, verbose = True)\n",
    "\n",
    "Rand_RF.fit(X_pca,y)"
   ]
  },
  {
   "cell_type": "code",
   "execution_count": 50,
   "id": "81f3ba64",
   "metadata": {},
   "outputs": [
    {
     "data": {
      "text/plain": [
       "0.7454616588419405"
      ]
     },
     "execution_count": 50,
     "metadata": {},
     "output_type": "execute_result"
    }
   ],
   "source": [
    "Rand_RF.best_score_"
   ]
  },
  {
   "cell_type": "code",
   "execution_count": 51,
   "id": "3c359a2d",
   "metadata": {},
   "outputs": [
    {
     "data": {
      "text/plain": [
       "{'n_estimators': 410,\n",
       " 'min_samples_leaf': 1,\n",
       " 'max_features': 'auto',\n",
       " 'max_depth': None}"
      ]
     },
     "execution_count": 51,
     "metadata": {},
     "output_type": "execute_result"
    }
   ],
   "source": [
    "Rand_RF.best_params_"
   ]
  },
  {
   "cell_type": "markdown",
   "id": "3bf65fc5",
   "metadata": {},
   "source": [
    "## Finalizing the Model"
   ]
  },
  {
   "cell_type": "code",
   "execution_count": 52,
   "id": "04bb4ee0",
   "metadata": {},
   "outputs": [],
   "source": [
    "RF = RandomForestClassifier(n_estimators= 420,min_samples_leaf= 2,max_features='auto',max_depth= None)\n",
    "X_train, X_test, y_train, y_test = train_test_split(X_pca,y,test_size=0.2,random_state=42)\n",
    "RF.fit(X_train,y_train)\n",
    "y_pred = RF.predict(X_test)"
   ]
  },
  {
   "cell_type": "code",
   "execution_count": 53,
   "id": "58b72691",
   "metadata": {},
   "outputs": [
    {
     "data": {
      "text/plain": [
       "array([[34,  0,  0,  1],\n",
       "       [ 1, 20, 18,  1],\n",
       "       [ 2, 10, 20,  2],\n",
       "       [ 1,  0,  0, 34]], dtype=int64)"
      ]
     },
     "execution_count": 53,
     "metadata": {},
     "output_type": "execute_result"
    }
   ],
   "source": [
    "from sklearn.metrics import confusion_matrix\n",
    "confusion_matrix(y_test,y_pred)"
   ]
  },
  {
   "cell_type": "code",
   "execution_count": 54,
   "id": "73e75781",
   "metadata": {},
   "outputs": [
    {
     "data": {
      "text/plain": [
       "0.75"
      ]
     },
     "execution_count": 54,
     "metadata": {},
     "output_type": "execute_result"
    }
   ],
   "source": [
    "accuracy_score(y_test,y_pred)"
   ]
  },
  {
   "cell_type": "code",
   "execution_count": 60,
   "id": "839d480f",
   "metadata": {},
   "outputs": [
    {
     "data": {
      "text/plain": [
       "0.7427188277644898"
      ]
     },
     "execution_count": 60,
     "metadata": {},
     "output_type": "execute_result"
    }
   ],
   "source": [
    "from sklearn.metrics import f1_score\n",
    "f1_score(y_test,y_pred, average= \"weighted\")"
   ]
  }
 ],
 "metadata": {
  "kernelspec": {
   "display_name": "Python 3 (ipykernel)",
   "language": "python",
   "name": "python3"
  },
  "language_info": {
   "codemirror_mode": {
    "name": "ipython",
    "version": 3
   },
   "file_extension": ".py",
   "mimetype": "text/x-python",
   "name": "python",
   "nbconvert_exporter": "python",
   "pygments_lexer": "ipython3",
   "version": "3.9.12"
  }
 },
 "nbformat": 4,
 "nbformat_minor": 5
}
